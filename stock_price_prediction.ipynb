{
 "cells": [
  {
   "cell_type": "code",
   "execution_count": null,
   "metadata": {},
   "outputs": [
    {
     "ename": "ModuleNotFoundError",
     "evalue": "No module named 'matplotlib'",
     "output_type": "error",
     "traceback": [
      "\u001b[31m---------------------------------------------------------------------------\u001b[39m",
      "\u001b[31mModuleNotFoundError\u001b[39m                       Traceback (most recent call last)",
      "\u001b[36mCell\u001b[39m\u001b[36m \u001b[39m\u001b[32mIn[4]\u001b[39m\u001b[32m, line 3\u001b[39m\n\u001b[32m      1\u001b[39m \u001b[38;5;66;03m# importing the csv files \u001b[39;00m\n\u001b[32m      2\u001b[39m \u001b[38;5;66;03m#import pandas as pd\u001b[39;00m\n\u001b[32m----> \u001b[39m\u001b[32m3\u001b[39m \u001b[38;5;28;01mimport\u001b[39;00m\u001b[38;5;250m \u001b[39m\u001b[34;01mmatplotlib\u001b[39;00m\u001b[34;01m.\u001b[39;00m\u001b[34;01mpyplot\u001b[39;00m\u001b[38;5;250m \u001b[39m\u001b[38;5;28;01mas\u001b[39;00m\u001b[38;5;250m \u001b[39m\u001b[34;01mplt\u001b[39;00m\n\u001b[32m      4\u001b[39m \u001b[38;5;28;01mfrom\u001b[39;00m\u001b[38;5;250m \u001b[39m\u001b[34;01msklearn\u001b[39;00m\u001b[34;01m.\u001b[39;00m\u001b[34;01mpreprocessing\u001b[39;00m\u001b[38;5;250m \u001b[39m\u001b[38;5;28;01mimport\u001b[39;00m PolynomialFeatures\n\u001b[32m      5\u001b[39m \u001b[38;5;28;01mfrom\u001b[39;00m\u001b[38;5;250m \u001b[39m\u001b[34;01msklearn\u001b[39;00m\u001b[34;01m.\u001b[39;00m\u001b[34;01mlinear_model\u001b[39;00m\u001b[38;5;250m \u001b[39m\u001b[38;5;28;01mimport\u001b[39;00m LinearRegression\n",
      "\u001b[31mModuleNotFoundError\u001b[39m: No module named 'matplotlib'"
     ]
    }
   ],
   "source": [
    "# importing the csv files \n",
    "import pandas as pd\n",
    "import matplotlib.pyplot as plt\n",
    "from sklearn.preprocessing import PolynomialFeatures\n",
    "from sklearn.linear_model import LinearRegression\n",
    "from sklearn.pipeline import make_pipeline\n",
    "import numpy as np\n",
    "import matplotlib.pyplot as plt\n",
    "from sklearn.metrics import r2_score, mean_squared_error, mean_absolute_error \n",
    "from sklearn.tree import DecisionTreeRegressor\n",
    "\n",
    "\n",
    "df_amazon = pd.read_csv('amazon_data.csv')\n",
    "df_coke = pd.read_csv('coke_data.csv')\n",
    "df_jnj = pd.read_csv('j&j_data.csv')"
   ]
  },
  {
   "cell_type": "code",
   "execution_count": null,
   "metadata": {},
   "outputs": [
    {
     "ename": "NameError",
     "evalue": "name 'df_amazon' is not defined",
     "output_type": "error",
     "traceback": [
      "\u001b[31m---------------------------------------------------------------------------\u001b[39m",
      "\u001b[31mNameError\u001b[39m                                 Traceback (most recent call last)",
      "\u001b[36mCell\u001b[39m\u001b[36m \u001b[39m\u001b[32mIn[1]\u001b[39m\u001b[32m, line 1\u001b[39m\n\u001b[32m----> \u001b[39m\u001b[32m1\u001b[39m \u001b[43mdf_amazon\u001b[49m.head()\n",
      "\u001b[31mNameError\u001b[39m: name 'df_amazon' is not defined"
     ]
    }
   ],
   "source": [
    "df_amazon.head()\n",
    " "
   ]
  },
  {
   "cell_type": "code",
   "execution_count": null,
   "metadata": {},
   "outputs": [],
   "source": [
    "# convert the \"Date\" column to a date and hour format with to_datetime() and creating separate columns\n",
    "df_amazon['Date'] = pd.to_datetime(df_amazon['Date'])\n",
    " \n",
    "df_amazon['date'] = df_amazon['Date'].dt.date\n",
    "df_amazon['hour'] = df_amazon['Date'].dt.hour\n",
    "\n",
    "df_amazon = df_amazon.drop(columns=['Date'])\n",
    " \n",
    "df_amazon.head()\n",
    "\n",
    "print(df_amazon)\n",
    "\n"
   ]
  },
  {
   "cell_type": "markdown",
   "metadata": {},
   "source": []
  },
  {
   "cell_type": "code",
   "execution_count": null,
   "metadata": {},
   "outputs": [],
   "source": [
    "#here I'm flipping the data so we don't need to read data from bottom up \n",
    "\n",
    "df_amazon = df_amazon.iloc[::-1]\n",
    "df_amazon = df_amazon.reset_index(drop=True)\n",
    "#print to check\n",
    "\n",
    "print(df_amazon)"
   ]
  },
  {
   "cell_type": "code",
   "execution_count": null,
   "metadata": {},
   "outputs": [],
   "source": [
    "\n",
    "split_index = (len(df_amazon) - 1) // 2\n",
    "\n",
    "# separate half to train later on and one for testing results\n",
    "df_train_amazon = df_amazon.iloc[:split_index + 1].reset_index(drop=True)\n",
    "df_test_amazon = df_amazon.iloc[split_index + 1:].reset_index(drop=True)\n",
    "\n",
    "print(df_train_amazon)\n",
    "\n",
    "print(df_test_amazon)"
   ]
  },
  {
   "cell_type": "code",
   "execution_count": null,
   "metadata": {},
   "outputs": [],
   "source": [
    "\n",
    "plt.figure(figsize=(12, 6))\n",
    "plt.plot(df_train_amazon.index, df_train_amazon['Open'], label='Open Price', linewidth=2)\n",
    "\n",
    "plt.xlabel('Row #')\n",
    "plt.ylabel('Open Price ($)')\n",
    "plt.title('Open Prices by Row Number from 2024-9-18 to 2024-12-11')\n",
    "plt.grid(True)\n",
    "plt.legend()\n",
    "plt.show()"
   ]
  },
  {
   "cell_type": "code",
   "execution_count": null,
   "metadata": {},
   "outputs": [],
   "source": [
    "\n",
    "# set x and y\n",
    "X = df_train_amazon.index.to_numpy().reshape(-1, 1)\n",
    "y = df_train_amazon['Open'].to_numpy()\n",
    "\n",
    "# set polynomial regression degree\n",
    "degree = 4\n",
    "model = make_pipeline(PolynomialFeatures(degree), LinearRegression())\n",
    "\n",
    "model.fit(X, y)\n",
    "\n",
    "# Predict the Open prices \n",
    "y_pred = model.predict(X)\n",
    "r2 = r2_score(y, y_pred)\n",
    "print(r2)\n",
    "# Plot it\n",
    "plt.figure(figsize=(12, 6))\n",
    "plt.plot(X, y, label='Actual Open Prices', linewidth=2)\n",
    "plt.plot(X, y_pred, label=f'Polynomial Fit (degree {degree})', linewidth=2)\n",
    "\n",
    "plt.xlabel('Row #')\n",
    "plt.ylabel('Open Price ($)')\n",
    "plt.title('Polynomial Regression Fit on trained data')\n",
    "plt.grid(True)\n",
    "plt.legend()\n",
    "plt.tight_layout()\n",
    "plt.show()\n"
   ]
  },
  {
   "cell_type": "markdown",
   "metadata": {},
   "source": [
    "degree 3 84.04\n",
    "\n",
    "degree 4 86.05\n",
    "\n",
    "degree 5 90."
   ]
  },
  {
   "cell_type": "code",
   "execution_count": null,
   "metadata": {},
   "outputs": [],
   "source": [
    "# now let see how it fits with the rest of the data\n",
    "x_every = df_amazon.index.to_numpy().reshape(-1, 1)\n",
    "y_every = df_amazon['Open'].to_numpy()\n",
    "\n",
    "y_pred_half = model.predict(x_every)\n",
    "\n",
    "plt.plot(x_every, y_every, label='Actual Open Prices', linewidth=2)\n",
    "plt.plot(x_every, y_pred_half, label=f'Polynomial Fit (degree {degree})', linewidth=2)\n",
    "\n",
    "plt.xlabel('Row #')\n",
    "plt.ylabel('Open Price ($)')\n",
    "plt.title('Polynomial Regression with everything now')\n",
    "plt.grid(True)\n",
    "plt.legend()\n",
    "plt.tight_layout()\n",
    "plt.show()"
   ]
  },
  {
   "cell_type": "markdown",
   "metadata": {},
   "source": [
    "This is a failed example as you can see from the top but what i can do is make a for loop where everytime it predicts the next hour and once next hour hits "
   ]
  },
  {
   "cell_type": "markdown",
   "metadata": {},
   "source": []
  },
  {
   "cell_type": "code",
   "execution_count": null,
   "metadata": {},
   "outputs": [],
   "source": [
    "start_size = (len(df_amazon) - 1) // 2\n",
    "\n",
    "predictions = []    \n",
    "actuals = [] \n",
    "\n",
    "for i in range(start_size, len(df_amazon)):\n",
    "    train_data = df_amazon.iloc[i - start_size:i]\n",
    "    X_train = np.arange(start_size).reshape(-1, 1)\n",
    "    y_train = train_data['Open'].to_numpy()  \n",
    "    \n",
    "    # linear\n",
    "    #model = LinearRegression()\n",
    "    #model.fit(X_train, y_train)\n",
    "\n",
    "    degree = 3  \n",
    "    model = make_pipeline(PolynomialFeatures(degree), LinearRegression())\n",
    "    model.fit(X_train, y_train)\n",
    "    \n",
    "    # Predict the next hour\n",
    "    next_index = np.array([[start_size]])  # the next index after the training window\n",
    "    pred = model.predict(next_index)\n",
    "    \n",
    "    # Save the prediction and the actual value\n",
    "    predictions.append(pred[0])\n",
    "    actuals.append(df_amazon.iloc[i]['Open'])\n",
    "\n",
    "results = pd.DataFrame({\n",
    "    'Actual_Open': actuals,\n",
    "    'Predicted_Open': predictions\n",
    "}, index=df_amazon.index[start_size:])\n",
    "\n",
    "plt.figure(figsize=(12, 6))\n",
    "plt.plot(results.index, results['Actual_Open'], label='Actual Open Price', linewidth=2)\n",
    "plt.plot(results.index, results['Predicted_Open'], label='Predicted Open Price', linestyle='--', linewidth=2)\n",
    "plt.xlabel('Row in Hours')\n",
    "plt.ylabel('Open Price ($)')\n",
    "plt.title('Hourly Stock Price Prediction with Looping Regression (Degree 3)')\n",
    "plt.legend()\n",
    "plt.grid(True)\n",
    "plt.tight_layout()\n",
    "plt.show()\n",
    "\n",
    "# Metrics for the degree 3 model\n",
    "mse = mean_squared_error(actuals, predictions)\n",
    "mae = mean_absolute_error(actuals, predictions)\n",
    "r2 = r2_score(actuals, predictions)\n",
    "\n",
    "print(\"Mean Squared Error (MSE):\", mse)\n",
    "print(\"Mean Absolute Error (MAE):\", mae)\n",
    "print(\"R² Score:\", r2)\n",
    "\n",
    "\n"
   ]
  },
  {
   "cell_type": "code",
   "execution_count": null,
   "metadata": {},
   "outputs": [],
   "source": [
    "# Calculate residuals\n",
    "residuals = np.array(actuals) - np.array(predictions)\n",
    "\n",
    "plt.figure(figsize=(12, 6))\n",
    "plt.hist(residuals, bins=20, edgecolor='black', alpha=0.7)\n",
    "plt.xlabel('Residual (Actual - Predicted)')\n",
    "plt.ylabel('Frequency')\n",
    "plt.title('Distribution of Residuals for Degree 3 Model')\n",
    "plt.grid(True)\n",
    "plt.tight_layout()\n",
    "plt.show()\n"
   ]
  },
  {
   "cell_type": "markdown",
   "metadata": {},
   "source": [
    "Overall, the histogram suggests the model frequently overpredicts by a few dollars (seeing more on negative side in the distribution) and sometimes makes large errors in both directions. This we can investigate later on to further learn what is causing the changes in price prediction. "
   ]
  },
  {
   "cell_type": "code",
   "execution_count": null,
   "metadata": {},
   "outputs": [],
   "source": [
    "start_size = (len(df_amazon) - 1) // 2\n",
    "\n",
    "predictions = []    \n",
    "actuals = [] \n",
    "\n",
    "for i in range(start_size, len(df_amazon)):\n",
    "    train_data = df_amazon.iloc[i - start_size:i]\n",
    "    X_train = np.arange(start_size).reshape(-1, 1)\n",
    "    y_train = train_data['Open'].to_numpy()  \n",
    "    \n",
    "    # degree-4 polynomial regression model\n",
    "    degree = 4  \n",
    "    model = make_pipeline(PolynomialFeatures(degree), LinearRegression())\n",
    "    model.fit(X_train, y_train)\n",
    "    \n",
    "    # Predict the next hour\n",
    "    next_index = np.array([[start_size]])  # the next index after the training window\n",
    "    pred = model.predict(next_index)\n",
    "    \n",
    "    # Save the prediction and the actual value\n",
    "    predictions.append(pred[0])\n",
    "    actuals.append(df_amazon.iloc[i]['Open'])\n",
    "\n",
    "results = pd.DataFrame({\n",
    "    'Actual_Open': actuals,\n",
    "    'Predicted_Open': predictions\n",
    "}, index=df_amazon.index[start_size:])\n",
    "\n",
    "plt.figure(figsize=(12, 6))\n",
    "plt.plot(results.index, results['Actual_Open'], label='Actual Open Price', linewidth=2)\n",
    "plt.plot(results.index, results['Predicted_Open'], label='Predicted Open Price', linestyle='--', linewidth=2)\n",
    "plt.xlabel('Row in Hours')\n",
    "plt.ylabel('Open Price ($)')\n",
    "plt.title('Hourly Stock Price Prediction with Looping Regression (Degree 4)')\n",
    "plt.legend()\n",
    "plt.grid(True)\n",
    "plt.tight_layout()\n",
    "plt.show()\n",
    "\n",
    "# Metrics for the degree 4 model\n",
    "mse = mean_squared_error(actuals, predictions)\n",
    "mae = mean_absolute_error(actuals, predictions)\n",
    "r2 = r2_score(actuals, predictions)\n",
    "\n",
    "print(\"Mean Squared Error (MSE):\", mse)\n",
    "print(\"Mean Absolute Error (MAE):\", mae)\n",
    "print(\"R² Score:\", r2)\n",
    "\n"
   ]
  },
  {
   "cell_type": "markdown",
   "metadata": {},
   "source": [
    "As we can see from the visualization and performance metrics, degree 3 model performs better. The degree 3 model has lower MSE and MAE values indicating that the average squared difference between the predicted and actual values is smaller and  average absolute error is reduced. Degree 3 model also has a higher R-squared score of 0.651 compared to degree 4's 0.577 implying it explains a greater portion of the variance in the data. "
   ]
  },
  {
   "cell_type": "code",
   "execution_count": null,
   "metadata": {},
   "outputs": [],
   "source": [
    "# Now we will create the decision tree model with the trainining dataset (TODO add more intro above, connect it with previous step's)\n",
    "start_size = (len(df_amazon) - 1) // 2\n",
    "\n",
    "predictions = []\n",
    "actuals = []\n",
    "\n",
    "for i in range(start_size, len(df_amazon)): \n",
    "    train_data = df_amazon.iloc[i - start_size : i]\n",
    "    \n",
    "    X_train = np.arange(start_size).reshape(-1, 1)\n",
    "    y_train = train_data['Open'].to_numpy()\n",
    "\n",
    "    # Initialize and train a decision tree model \n",
    "    model = DecisionTreeRegressor(max_depth=5, random_state=42)\n",
    "    model.fit(X_train, y_train)\n",
    "\n",
    "    # Predict the next point (index = start_size)\n",
    "    next_index = np.array([[start_size]])  \n",
    "    pred = model.predict(next_index)\n",
    "\n",
    "    predictions.append(pred[0])\n",
    "    actuals.append(df_amazon.iloc[i]['Open'])\n",
    "\n",
    "# Compare predictions vs. actual price\n",
    "results = pd.DataFrame({\n",
    "    'Actual_Open': actuals,\n",
    "    'Predicted_Open': predictions\n",
    "}, index=df_amazon.index[start_size:])\n",
    "\n",
    "# Calculate error metrics\n",
    "mse = mean_squared_error(results['Actual_Open'], results['Predicted_Open'])\n",
    "mae = mean_absolute_error(results['Actual_Open'], results['Predicted_Open'])\n",
    "r2 = r2_score(results['Actual_Open'], results['Predicted_Open'])\n",
    "print(\"Decision Tree (max_depth=5) Performance:\")\n",
    "print(\"Mean Squared Error (MSE):\", mse)\n",
    "print(\"Mean Absolute Error (MAE):\", mae)\n",
    "print(\"R² Score:\", r2)\n",
    "\n",
    "# Plot results\n",
    "plt.figure(figsize=(12, 6))\n",
    "plt.plot(results.index, results['Actual_Open'], label='Actual Open Price', linewidth=2)\n",
    "plt.plot(results.index, results['Predicted_Open'], label='Predicted Open Price', linestyle='--', linewidth=2)\n",
    "plt.xlabel('Row in Hours')\n",
    "plt.ylabel('Open Price ($)')\n",
    "plt.title('Hourly Stock Price Prediction with Decision Tree Regression')\n",
    "plt.legend()\n",
    "plt.grid(True)\n",
    "plt.tight_layout()\n",
    "plt.show()"
   ]
  },
  {
   "cell_type": "code",
   "execution_count": null,
   "metadata": {},
   "outputs": [],
   "source": [
    "# calculating residuals for the decision tree model\n",
    "residuals = results['Actual_Open'] - results['Predicted_Open']\n",
    "\n",
    "# histogram of residuals\n",
    "plt.figure(figsize=(12, 6))\n",
    "plt.hist(residuals, bins=20, edgecolor='black', alpha=0.7)\n",
    "plt.xlabel('Residual (Actual - Predicted)')\n",
    "plt.ylabel('Frequency')\n",
    "plt.title('Distribution of Residuals for Decision Tree Model')\n",
    "plt.grid(True)\n",
    "plt.tight_layout()\n",
    "plt.show()"
   ]
  },
  {
   "cell_type": "markdown",
   "metadata": {},
   "source": [
    "TODO (esther): write about the results "
   ]
  }
 ],
 "metadata": {
  "kernelspec": {
   "display_name": "Python 3",
   "language": "python",
   "name": "python3"
  },
  "language_info": {
   "codemirror_mode": {
    "name": "ipython",
    "version": 3
   },
   "file_extension": ".py",
   "mimetype": "text/x-python",
   "name": "python",
   "nbconvert_exporter": "python",
   "pygments_lexer": "ipython3",
   "version": "3.11.11"
  }
 },
 "nbformat": 4,
 "nbformat_minor": 2
}
